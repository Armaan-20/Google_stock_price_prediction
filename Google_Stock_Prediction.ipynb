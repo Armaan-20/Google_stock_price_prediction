{
 "cells": [
  {
   "cell_type": "code",
   "execution_count": 2,
   "metadata": {},
   "outputs": [],
   "source": [
    "import numpy as np\n",
    "import pandas as pd\n",
    "import matplotlib.pyplot as plt\n"
   ]
  },
  {
   "cell_type": "code",
   "execution_count": 28,
   "metadata": {},
   "outputs": [],
   "source": [
    "train_data = pd.read_csv(r'C:\\Users\\Armaan\\Downloads\\P16-Recurrent-Neural-Networks\\Part 3 - Recurrent Neural Networks\\Google_Stock_Price_Train.csv')"
   ]
  },
  {
   "cell_type": "code",
   "execution_count": 14,
   "metadata": {},
   "outputs": [
    {
     "data": {
      "text/plain": [
       "<bound method NDFrame.describe of             Date    Open    High     Low   Close      Volume\n",
       "0       1/3/2012  325.25  332.83  324.97  663.59   7,380,500\n",
       "1       1/4/2012  331.27  333.87  329.08  666.45   5,749,400\n",
       "2       1/5/2012  329.83  330.75  326.89  657.21   6,590,300\n",
       "3       1/6/2012  328.34  328.77  323.68  648.24   5,405,900\n",
       "4       1/9/2012  322.04  322.29  309.46  620.76  11,688,800\n",
       "...          ...     ...     ...     ...     ...         ...\n",
       "1253  12/23/2016  790.90  792.74  787.28  789.91     623,400\n",
       "1254  12/27/2016  790.68  797.86  787.66  791.55     789,100\n",
       "1255  12/28/2016  793.70  794.23  783.20  785.05   1,153,800\n",
       "1256  12/29/2016  783.33  785.93  778.92  782.79     744,300\n",
       "1257  12/30/2016  782.75  782.78  770.41  771.82   1,770,000\n",
       "\n",
       "[1258 rows x 6 columns]>"
      ]
     },
     "execution_count": 14,
     "metadata": {},
     "output_type": "execute_result"
    }
   ],
   "source": [
    "train_data.describe"
   ]
  },
  {
   "cell_type": "code",
   "execution_count": 24,
   "metadata": {},
   "outputs": [
    {
     "data": {
      "text/plain": [
       "(1258, 1)"
      ]
     },
     "execution_count": 24,
     "metadata": {},
     "output_type": "execute_result"
    }
   ],
   "source": [
    "train_set = train_data.iloc[:, 1:2].values\n",
    "train_set.shape"
   ]
  },
  {
   "cell_type": "code",
   "execution_count": 12,
   "metadata": {},
   "outputs": [],
   "source": [
    "from sklearn.preprocessing import MinMaxScaler\n",
    "sc = MinMaxScaler()\n",
    "train_scaled = sc.fit_transform(train_set)"
   ]
  },
  {
   "cell_type": "code",
   "execution_count": 13,
   "metadata": {},
   "outputs": [
    {
     "data": {
      "text/plain": [
       "array([[0.08581368],\n",
       "       [0.09701243],\n",
       "       [0.09433366],\n",
       "       ...,\n",
       "       [0.95725128],\n",
       "       [0.93796041],\n",
       "       [0.93688146]])"
      ]
     },
     "execution_count": 13,
     "metadata": {},
     "output_type": "execute_result"
    }
   ],
   "source": [
    "train_scaled"
   ]
  },
  {
   "cell_type": "code",
   "execution_count": 16,
   "metadata": {},
   "outputs": [],
   "source": [
    "X_train = []\n",
    "y_train = []\n",
    "for i in range(70,1258):\n",
    "    X_train.append(train_scaled[i-70:i, 0])\n",
    "    y_train.append(train_scaled[i ,0])\n",
    "X_train = np.array(X_train)\n",
    "y_train = np.array(y_train)"
   ]
  },
  {
   "cell_type": "code",
   "execution_count": 25,
   "metadata": {},
   "outputs": [
    {
     "data": {
      "text/plain": [
       "(1188, 70, 1)"
      ]
     },
     "execution_count": 25,
     "metadata": {},
     "output_type": "execute_result"
    }
   ],
   "source": [
    "X_train.shape"
   ]
  },
  {
   "cell_type": "code",
   "execution_count": 18,
   "metadata": {},
   "outputs": [],
   "source": [
    "X_train = np.reshape(X_train, (X_train.shape[0],X_train.shape[1],1))\n"
   ]
  },
  {
   "cell_type": "code",
   "execution_count": 21,
   "metadata": {},
   "outputs": [],
   "source": [
    "from keras.models import Sequential\n",
    "from keras.layers import Dense\n",
    "from keras.layers import LSTM\n",
    "from keras.layers import Dropout\n",
    "\n",
    "predictor = Sequential()\n",
    "predictor.add(LSTM(units = 50, return_sequences = True, input_shape = (X_train.shape[1],1)))\n",
    "predictor.add(Dropout(0.2))\n",
    "predictor.add(LSTM(units = 50, return_sequences = True))\n",
    "predictor.add(Dropout(0.2))\n",
    "predictor.add(LSTM(units = 50, return_sequences = True))\n",
    "predictor.add(Dropout(0.2))\n",
    "predictor.add(LSTM(units = 50))\n",
    "predictor.add(Dropout(0.2))\n",
    "predictor.add(Dense(units = 1))"
   ]
  },
  {
   "cell_type": "code",
   "execution_count": 22,
   "metadata": {},
   "outputs": [],
   "source": [
    "predictor.compile(optimizer = 'adam', loss = 'mean_squared_error')"
   ]
  },
  {
   "cell_type": "code",
   "execution_count": 23,
   "metadata": {},
   "outputs": [
    {
     "name": "stdout",
     "output_type": "stream",
     "text": [
      "Epoch 1/100\n",
      "38/38 [==============================] - 3s 75ms/step - loss: 0.0361\n",
      "Epoch 2/100\n",
      "38/38 [==============================] - 3s 72ms/step - loss: 0.0064\n",
      "Epoch 3/100\n",
      "38/38 [==============================] - 3s 72ms/step - loss: 0.0054\n",
      "Epoch 4/100\n",
      "38/38 [==============================] - 3s 73ms/step - loss: 0.0056\n",
      "Epoch 5/100\n",
      "38/38 [==============================] - 3s 74ms/step - loss: 0.0054\n",
      "Epoch 6/100\n",
      "38/38 [==============================] - 3s 76ms/step - loss: 0.0045\n",
      "Epoch 7/100\n",
      "38/38 [==============================] - 3s 79ms/step - loss: 0.0046\n",
      "Epoch 8/100\n",
      "38/38 [==============================] - 3s 80ms/step - loss: 0.0048\n",
      "Epoch 9/100\n",
      "38/38 [==============================] - 3s 81ms/step - loss: 0.0051\n",
      "Epoch 10/100\n",
      "38/38 [==============================] - 3s 83ms/step - loss: 0.0041\n",
      "Epoch 11/100\n",
      "38/38 [==============================] - 3s 83ms/step - loss: 0.0039\n",
      "Epoch 12/100\n",
      "38/38 [==============================] - 3s 84ms/step - loss: 0.0038\n",
      "Epoch 13/100\n",
      "38/38 [==============================] - 3s 86ms/step - loss: 0.0038\n",
      "Epoch 14/100\n",
      "38/38 [==============================] - 3s 86ms/step - loss: 0.0046\n",
      "Epoch 15/100\n",
      "38/38 [==============================] - 3s 88ms/step - loss: 0.0043: 0s - loss: 0.\n",
      "Epoch 16/100\n",
      "38/38 [==============================] - 3s 88ms/step - loss: 0.0039\n",
      "Epoch 17/100\n",
      "38/38 [==============================] - 3s 90ms/step - loss: 0.0042\n",
      "Epoch 18/100\n",
      "38/38 [==============================] - 3s 92ms/step - loss: 0.0036\n",
      "Epoch 19/100\n",
      "38/38 [==============================] - 3s 89ms/step - loss: 0.0034\n",
      "Epoch 20/100\n",
      "38/38 [==============================] - 3s 91ms/step - loss: 0.0036\n",
      "Epoch 21/100\n",
      "38/38 [==============================] - 3s 91ms/step - loss: 0.0035\n",
      "Epoch 22/100\n",
      "38/38 [==============================] - 3s 88ms/step - loss: 0.0036\n",
      "Epoch 23/100\n",
      "38/38 [==============================] - 3s 87ms/step - loss: 0.0033\n",
      "Epoch 24/100\n",
      "38/38 [==============================] - 3s 89ms/step - loss: 0.0034\n",
      "Epoch 25/100\n",
      "38/38 [==============================] - 3s 90ms/step - loss: 0.0033\n",
      "Epoch 26/100\n",
      "38/38 [==============================] - 3s 91ms/step - loss: 0.0034\n",
      "Epoch 27/100\n",
      "38/38 [==============================] - 3s 91ms/step - loss: 0.0030\n",
      "Epoch 28/100\n",
      "38/38 [==============================] - 4s 92ms/step - loss: 0.0028\n",
      "Epoch 29/100\n",
      "38/38 [==============================] - 3s 90ms/step - loss: 0.0028\n",
      "Epoch 30/100\n",
      "38/38 [==============================] - 3s 90ms/step - loss: 0.0030: \n",
      "Epoch 31/100\n",
      "38/38 [==============================] - 3s 89ms/step - loss: 0.0027\n",
      "Epoch 32/100\n",
      "38/38 [==============================] - 3s 91ms/step - loss: 0.0029\n",
      "Epoch 33/100\n",
      "38/38 [==============================] - 4s 94ms/step - loss: 0.0030\n",
      "Epoch 34/100\n",
      "38/38 [==============================] - 3s 89ms/step - loss: 0.0027\n",
      "Epoch 35/100\n",
      "38/38 [==============================] - 3s 90ms/step - loss: 0.0026\n",
      "Epoch 36/100\n",
      "38/38 [==============================] - 4s 92ms/step - loss: 0.0027\n",
      "Epoch 37/100\n",
      "38/38 [==============================] - 4s 95ms/step - loss: 0.0028\n",
      "Epoch 38/100\n",
      "38/38 [==============================] - 4s 94ms/step - loss: 0.0033\n",
      "Epoch 39/100\n",
      "38/38 [==============================] - 3s 90ms/step - loss: 0.0029\n",
      "Epoch 40/100\n",
      "38/38 [==============================] - 3s 92ms/step - loss: 0.0026\n",
      "Epoch 41/100\n",
      "38/38 [==============================] - 4s 92ms/step - loss: 0.0026\n",
      "Epoch 42/100\n",
      "38/38 [==============================] - 4s 93ms/step - loss: 0.0025\n",
      "Epoch 43/100\n",
      "38/38 [==============================] - 4s 93ms/step - loss: 0.0025\n",
      "Epoch 44/100\n",
      "38/38 [==============================] - 4s 93ms/step - loss: 0.0025\n",
      "Epoch 45/100\n",
      "38/38 [==============================] - 4s 93ms/step - loss: 0.0029\n",
      "Epoch 46/100\n",
      "38/38 [==============================] - 3s 92ms/step - loss: 0.0026\n",
      "Epoch 47/100\n",
      "38/38 [==============================] - 3s 91ms/step - loss: 0.0025\n",
      "Epoch 48/100\n",
      "38/38 [==============================] - 4s 93ms/step - loss: 0.0023\n",
      "Epoch 49/100\n",
      "38/38 [==============================] - 3s 92ms/step - loss: 0.0022\n",
      "Epoch 50/100\n",
      "38/38 [==============================] - 4s 94ms/step - loss: 0.0023\n",
      "Epoch 51/100\n",
      "38/38 [==============================] - 4s 93ms/step - loss: 0.0021\n",
      "Epoch 52/100\n",
      "38/38 [==============================] - 3s 92ms/step - loss: 0.0030\n",
      "Epoch 53/100\n",
      "38/38 [==============================] - 4s 94ms/step - loss: 0.0023\n",
      "Epoch 54/100\n",
      "38/38 [==============================] - 4s 92ms/step - loss: 0.0022\n",
      "Epoch 55/100\n",
      "38/38 [==============================] - 3s 89ms/step - loss: 0.0022\n",
      "Epoch 56/100\n",
      "38/38 [==============================] - 4s 93ms/step - loss: 0.0021\n",
      "Epoch 57/100\n",
      "38/38 [==============================] - 4s 95ms/step - loss: 0.0021\n",
      "Epoch 58/100\n",
      "38/38 [==============================] - 4s 95ms/step - loss: 0.0022\n",
      "Epoch 59/100\n",
      "38/38 [==============================] - 4s 96ms/step - loss: 0.0019\n",
      "Epoch 60/100\n",
      "38/38 [==============================] - 4s 93ms/step - loss: 0.0020\n",
      "Epoch 61/100\n",
      "38/38 [==============================] - 4s 93ms/step - loss: 0.0019\n",
      "Epoch 62/100\n",
      "38/38 [==============================] - 4s 95ms/step - loss: 0.0020\n",
      "Epoch 63/100\n",
      "38/38 [==============================] - 4s 94ms/step - loss: 0.0018\n",
      "Epoch 64/100\n",
      "38/38 [==============================] - 4s 94ms/step - loss: 0.0021\n",
      "Epoch 65/100\n",
      "38/38 [==============================] - 4s 93ms/step - loss: 0.0022\n",
      "Epoch 66/100\n",
      "38/38 [==============================] - 4s 93ms/step - loss: 0.0019\n",
      "Epoch 67/100\n",
      "38/38 [==============================] - 4s 93ms/step - loss: 0.0018\n",
      "Epoch 68/100\n",
      "38/38 [==============================] - 4s 94ms/step - loss: 0.0019\n",
      "Epoch 69/100\n",
      "38/38 [==============================] - 4s 95ms/step - loss: 0.0018\n",
      "Epoch 70/100\n",
      "38/38 [==============================] - 4s 94ms/step - loss: 0.0019\n",
      "Epoch 71/100\n",
      "38/38 [==============================] - 4s 106ms/step - loss: 0.0021\n",
      "Epoch 72/100\n",
      "38/38 [==============================] - 4s 100ms/step - loss: 0.0023\n",
      "Epoch 73/100\n",
      "38/38 [==============================] - 4s 101ms/step - loss: 0.0018\n",
      "Epoch 74/100\n",
      "38/38 [==============================] - 4s 94ms/step - loss: 0.0021\n",
      "Epoch 75/100\n",
      "38/38 [==============================] - 4s 92ms/step - loss: 0.0022\n",
      "Epoch 76/100\n",
      "38/38 [==============================] - 4s 95ms/step - loss: 0.0016\n",
      "Epoch 77/100\n",
      "38/38 [==============================] - 4s 93ms/step - loss: 0.0017\n",
      "Epoch 78/100\n",
      "38/38 [==============================] - 4s 94ms/step - loss: 0.0015\n",
      "Epoch 79/100\n",
      "38/38 [==============================] - 4s 93ms/step - loss: 0.0017\n",
      "Epoch 80/100\n",
      "38/38 [==============================] - 4s 94ms/step - loss: 0.0018\n",
      "Epoch 81/100\n",
      "38/38 [==============================] - 3s 92ms/step - loss: 0.0018\n",
      "Epoch 82/100\n",
      "38/38 [==============================] - 3s 91ms/step - loss: 0.0018\n",
      "Epoch 83/100\n",
      "38/38 [==============================] - 3s 92ms/step - loss: 0.0016\n",
      "Epoch 84/100\n",
      "38/38 [==============================] - 3s 91ms/step - loss: 0.0015\n",
      "Epoch 85/100\n",
      "38/38 [==============================] - 4s 94ms/step - loss: 0.0016\n",
      "Epoch 86/100\n",
      "38/38 [==============================] - 4s 94ms/step - loss: 0.0016\n",
      "Epoch 87/100\n",
      "38/38 [==============================] - 4s 93ms/step - loss: 0.0018\n",
      "Epoch 88/100\n",
      "38/38 [==============================] - 4s 92ms/step - loss: 0.0016\n",
      "Epoch 89/100\n",
      "38/38 [==============================] - 4s 92ms/step - loss: 0.0015\n",
      "Epoch 90/100\n",
      "38/38 [==============================] - 4s 95ms/step - loss: 0.0016\n",
      "Epoch 91/100\n",
      "38/38 [==============================] - 4s 92ms/step - loss: 0.0014\n",
      "Epoch 92/100\n",
      "38/38 [==============================] - 3s 90ms/step - loss: 0.0017\n",
      "Epoch 93/100\n",
      "38/38 [==============================] - 4s 93ms/step - loss: 0.0015\n",
      "Epoch 94/100\n",
      "38/38 [==============================] - 3s 91ms/step - loss: 0.0017\n",
      "Epoch 95/100\n",
      "38/38 [==============================] - 3s 91ms/step - loss: 0.0014\n",
      "Epoch 96/100\n",
      "38/38 [==============================] - ETA: 0s - loss: 0.001 - 3s 91ms/step - loss: 0.0014\n",
      "Epoch 97/100\n",
      "38/38 [==============================] - 3s 91ms/step - loss: 0.0015: 0s - loss: 0.00\n",
      "Epoch 98/100\n",
      "38/38 [==============================] - 3s 92ms/step - loss: 0.0016\n",
      "Epoch 99/100\n",
      "38/38 [==============================] - 4s 92ms/step - loss: 0.0015\n",
      "Epoch 100/100\n",
      "38/38 [==============================] - 3s 90ms/step - loss: 0.0015\n"
     ]
    },
    {
     "data": {
      "text/plain": [
       "<tensorflow.python.keras.callbacks.History at 0x209ee30f610>"
      ]
     },
     "execution_count": 23,
     "metadata": {},
     "output_type": "execute_result"
    }
   ],
   "source": [
    "predictor.fit(X_train, y_train, epochs = 100, batch_size = 32)"
   ]
  },
  {
   "cell_type": "code",
   "execution_count": 3,
   "metadata": {},
   "outputs": [
    {
     "data": {
      "text/html": [
       "<div>\n",
       "<style scoped>\n",
       "    .dataframe tbody tr th:only-of-type {\n",
       "        vertical-align: middle;\n",
       "    }\n",
       "\n",
       "    .dataframe tbody tr th {\n",
       "        vertical-align: top;\n",
       "    }\n",
       "\n",
       "    .dataframe thead th {\n",
       "        text-align: right;\n",
       "    }\n",
       "</style>\n",
       "<table border=\"1\" class=\"dataframe\">\n",
       "  <thead>\n",
       "    <tr style=\"text-align: right;\">\n",
       "      <th></th>\n",
       "      <th>Date</th>\n",
       "      <th>Open</th>\n",
       "      <th>High</th>\n",
       "      <th>Low</th>\n",
       "      <th>Close</th>\n",
       "      <th>Volume</th>\n",
       "    </tr>\n",
       "  </thead>\n",
       "  <tbody>\n",
       "    <tr>\n",
       "      <th>0</th>\n",
       "      <td>1/3/2017</td>\n",
       "      <td>778.81</td>\n",
       "      <td>789.63</td>\n",
       "      <td>775.80</td>\n",
       "      <td>786.14</td>\n",
       "      <td>1,657,300</td>\n",
       "    </tr>\n",
       "    <tr>\n",
       "      <th>1</th>\n",
       "      <td>1/4/2017</td>\n",
       "      <td>788.36</td>\n",
       "      <td>791.34</td>\n",
       "      <td>783.16</td>\n",
       "      <td>786.90</td>\n",
       "      <td>1,073,000</td>\n",
       "    </tr>\n",
       "    <tr>\n",
       "      <th>2</th>\n",
       "      <td>1/5/2017</td>\n",
       "      <td>786.08</td>\n",
       "      <td>794.48</td>\n",
       "      <td>785.02</td>\n",
       "      <td>794.02</td>\n",
       "      <td>1,335,200</td>\n",
       "    </tr>\n",
       "    <tr>\n",
       "      <th>3</th>\n",
       "      <td>1/6/2017</td>\n",
       "      <td>795.26</td>\n",
       "      <td>807.90</td>\n",
       "      <td>792.20</td>\n",
       "      <td>806.15</td>\n",
       "      <td>1,640,200</td>\n",
       "    </tr>\n",
       "    <tr>\n",
       "      <th>4</th>\n",
       "      <td>1/9/2017</td>\n",
       "      <td>806.40</td>\n",
       "      <td>809.97</td>\n",
       "      <td>802.83</td>\n",
       "      <td>806.65</td>\n",
       "      <td>1,272,400</td>\n",
       "    </tr>\n",
       "    <tr>\n",
       "      <th>5</th>\n",
       "      <td>1/10/2017</td>\n",
       "      <td>807.86</td>\n",
       "      <td>809.13</td>\n",
       "      <td>803.51</td>\n",
       "      <td>804.79</td>\n",
       "      <td>1,176,800</td>\n",
       "    </tr>\n",
       "    <tr>\n",
       "      <th>6</th>\n",
       "      <td>1/11/2017</td>\n",
       "      <td>805.00</td>\n",
       "      <td>808.15</td>\n",
       "      <td>801.37</td>\n",
       "      <td>807.91</td>\n",
       "      <td>1,065,900</td>\n",
       "    </tr>\n",
       "    <tr>\n",
       "      <th>7</th>\n",
       "      <td>1/12/2017</td>\n",
       "      <td>807.14</td>\n",
       "      <td>807.39</td>\n",
       "      <td>799.17</td>\n",
       "      <td>806.36</td>\n",
       "      <td>1,353,100</td>\n",
       "    </tr>\n",
       "    <tr>\n",
       "      <th>8</th>\n",
       "      <td>1/13/2017</td>\n",
       "      <td>807.48</td>\n",
       "      <td>811.22</td>\n",
       "      <td>806.69</td>\n",
       "      <td>807.88</td>\n",
       "      <td>1,099,200</td>\n",
       "    </tr>\n",
       "    <tr>\n",
       "      <th>9</th>\n",
       "      <td>1/17/2017</td>\n",
       "      <td>807.08</td>\n",
       "      <td>807.14</td>\n",
       "      <td>800.37</td>\n",
       "      <td>804.61</td>\n",
       "      <td>1,362,100</td>\n",
       "    </tr>\n",
       "    <tr>\n",
       "      <th>10</th>\n",
       "      <td>1/18/2017</td>\n",
       "      <td>805.81</td>\n",
       "      <td>806.21</td>\n",
       "      <td>800.99</td>\n",
       "      <td>806.07</td>\n",
       "      <td>1,294,400</td>\n",
       "    </tr>\n",
       "    <tr>\n",
       "      <th>11</th>\n",
       "      <td>1/19/2017</td>\n",
       "      <td>805.12</td>\n",
       "      <td>809.48</td>\n",
       "      <td>801.80</td>\n",
       "      <td>802.17</td>\n",
       "      <td>919,300</td>\n",
       "    </tr>\n",
       "    <tr>\n",
       "      <th>12</th>\n",
       "      <td>1/20/2017</td>\n",
       "      <td>806.91</td>\n",
       "      <td>806.91</td>\n",
       "      <td>801.69</td>\n",
       "      <td>805.02</td>\n",
       "      <td>1,670,000</td>\n",
       "    </tr>\n",
       "    <tr>\n",
       "      <th>13</th>\n",
       "      <td>1/23/2017</td>\n",
       "      <td>807.25</td>\n",
       "      <td>820.87</td>\n",
       "      <td>803.74</td>\n",
       "      <td>819.31</td>\n",
       "      <td>1,963,600</td>\n",
       "    </tr>\n",
       "    <tr>\n",
       "      <th>14</th>\n",
       "      <td>1/24/2017</td>\n",
       "      <td>822.30</td>\n",
       "      <td>825.90</td>\n",
       "      <td>817.82</td>\n",
       "      <td>823.87</td>\n",
       "      <td>1,474,000</td>\n",
       "    </tr>\n",
       "    <tr>\n",
       "      <th>15</th>\n",
       "      <td>1/25/2017</td>\n",
       "      <td>829.62</td>\n",
       "      <td>835.77</td>\n",
       "      <td>825.06</td>\n",
       "      <td>835.67</td>\n",
       "      <td>1,494,500</td>\n",
       "    </tr>\n",
       "    <tr>\n",
       "      <th>16</th>\n",
       "      <td>1/26/2017</td>\n",
       "      <td>837.81</td>\n",
       "      <td>838.00</td>\n",
       "      <td>827.01</td>\n",
       "      <td>832.15</td>\n",
       "      <td>2,973,900</td>\n",
       "    </tr>\n",
       "    <tr>\n",
       "      <th>17</th>\n",
       "      <td>1/27/2017</td>\n",
       "      <td>834.71</td>\n",
       "      <td>841.95</td>\n",
       "      <td>820.44</td>\n",
       "      <td>823.31</td>\n",
       "      <td>2,965,800</td>\n",
       "    </tr>\n",
       "    <tr>\n",
       "      <th>18</th>\n",
       "      <td>1/30/2017</td>\n",
       "      <td>814.66</td>\n",
       "      <td>815.84</td>\n",
       "      <td>799.80</td>\n",
       "      <td>802.32</td>\n",
       "      <td>3,246,600</td>\n",
       "    </tr>\n",
       "    <tr>\n",
       "      <th>19</th>\n",
       "      <td>1/31/2017</td>\n",
       "      <td>796.86</td>\n",
       "      <td>801.25</td>\n",
       "      <td>790.52</td>\n",
       "      <td>796.79</td>\n",
       "      <td>2,160,600</td>\n",
       "    </tr>\n",
       "  </tbody>\n",
       "</table>\n",
       "</div>"
      ],
      "text/plain": [
       "         Date    Open    High     Low   Close     Volume\n",
       "0    1/3/2017  778.81  789.63  775.80  786.14  1,657,300\n",
       "1    1/4/2017  788.36  791.34  783.16  786.90  1,073,000\n",
       "2    1/5/2017  786.08  794.48  785.02  794.02  1,335,200\n",
       "3    1/6/2017  795.26  807.90  792.20  806.15  1,640,200\n",
       "4    1/9/2017  806.40  809.97  802.83  806.65  1,272,400\n",
       "5   1/10/2017  807.86  809.13  803.51  804.79  1,176,800\n",
       "6   1/11/2017  805.00  808.15  801.37  807.91  1,065,900\n",
       "7   1/12/2017  807.14  807.39  799.17  806.36  1,353,100\n",
       "8   1/13/2017  807.48  811.22  806.69  807.88  1,099,200\n",
       "9   1/17/2017  807.08  807.14  800.37  804.61  1,362,100\n",
       "10  1/18/2017  805.81  806.21  800.99  806.07  1,294,400\n",
       "11  1/19/2017  805.12  809.48  801.80  802.17    919,300\n",
       "12  1/20/2017  806.91  806.91  801.69  805.02  1,670,000\n",
       "13  1/23/2017  807.25  820.87  803.74  819.31  1,963,600\n",
       "14  1/24/2017  822.30  825.90  817.82  823.87  1,474,000\n",
       "15  1/25/2017  829.62  835.77  825.06  835.67  1,494,500\n",
       "16  1/26/2017  837.81  838.00  827.01  832.15  2,973,900\n",
       "17  1/27/2017  834.71  841.95  820.44  823.31  2,965,800\n",
       "18  1/30/2017  814.66  815.84  799.80  802.32  3,246,600\n",
       "19  1/31/2017  796.86  801.25  790.52  796.79  2,160,600"
      ]
     },
     "execution_count": 3,
     "metadata": {},
     "output_type": "execute_result"
    }
   ],
   "source": [
    "test_data = pd.read_csv(r'C:\\Users\\Armaan\\Downloads\\P16-Recurrent-Neural-Networks\\Part 3 - Recurrent Neural Networks\\Google_Stock_Price_Test.csv')\n",
    "test_data"
   ]
  },
  {
   "cell_type": "code",
   "execution_count": 31,
   "metadata": {},
   "outputs": [
    {
     "data": {
      "text/plain": [
       "[<matplotlib.lines.Line2D at 0x209fe6ea670>]"
      ]
     },
     "execution_count": 31,
     "metadata": {},
     "output_type": "execute_result"
    },
    {
     "data": {
      "image/png": "[encoded data removed]",
      "text/plain": [
       "<Figure size 432x288 with 1 Axes>"
      ]
     },
     "metadata": {
      "needs_background": "light"
     },
     "output_type": "display_data"
    }
   ],
   "source": [
    "test_set = test_data.iloc[:, 1:2].values\n",
    "plt.plot(test_set)"
   ]
  },
  {
   "cell_type": "code",
   "execution_count": 38,
   "metadata": {},
   "outputs": [],
   "source": [
    "final_data = pd.concat((train_data['Open'],test_data['Open']), axis = 0)\n",
    "inputs = final_data[len(train_data) - 70:].values\n",
    "inputs = inputs.reshape(-1,1)\n",
    "inputs = sc.transform(inputs)\n",
    "\n",
    "X_test = []\n",
    "for i in range(70, 90):\n",
    "    X_test.append(inputs[i-70:i, 0])\n",
    "X_test = np.array(X_test) "
   ]
  },
  {
   "cell_type": "code",
   "execution_count": 39,
   "metadata": {},
   "outputs": [],
   "source": [
    "X_test = np.reshape(X_test, (X_test.shape[0],X_test.shape[1],1))"
   ]
  },
  {
   "cell_type": "code",
   "execution_count": 40,
   "metadata": {},
   "outputs": [],
   "source": [
    "predicted_ans = predictor.predict(X_test)\n",
    "predicted_ans = sc.inverse_transform(predicted_ans)"
   ]
  },
  {
   "cell_type": "code",
   "execution_count": 41,
   "metadata": {},
   "outputs": [
    {
     "name": "stdout",
     "output_type": "stream",
     "text": [
      "[[775.0654 ]\n",
      " [772.43634]\n",
      " [772.8801 ]\n",
      " [774.46155]\n",
      " [778.00073]\n",
      " [784.08545]\n",
      " [789.5756 ]\n",
      " [791.7272 ]\n",
      " [791.92706]\n",
      " [791.47266]\n",
      " [790.97046]\n",
      " [790.44293]\n",
      " [790.0273 ]\n",
      " [790.3952 ]\n",
      " [791.26074]\n",
      " [795.9268 ]\n",
      " [802.9342 ]\n",
      " [810.3893 ]\n",
      " [814.25525]\n",
      " [809.698  ]]\n"
     ]
    }
   ],
   "source": [
    "print(predicted_ans)"
   ]
  },
  {
   "cell_type": "code",
   "execution_count": 43,
   "metadata": {},
   "outputs": [
    {
     "data": {
      "image/png": "[encoded data removed]",
      "text/plain": [
       "<Figure size 432x288 with 1 Axes>"
      ]
     },
     "metadata": {
      "needs_background": "light"
     },
     "output_type": "display_data"
    }
   ],
   "source": [
    "plt.plot(predicted_ans, color = 'red', label = 'Predicted stock price')\n",
    "plt.plot(test_set, color = 'blue', label = 'Real stock price')\n",
    "plt.title('Google Stock Price Prediction')\n",
    "plt.xlabel('Time')\n",
    "plt.ylabel('Stock_price')\n",
    "plt.legend()\n",
    "plt.show()"
   ]
  }
 ],
 "metadata": {
  "kernelspec": {
   "display_name": "Python 3",
   "language": "python",
   "name": "python3"
  },
  "language_info": {
   "codemirror_mode": {
    "name": "ipython",
    "version": 3
   },
   "file_extension": ".py",
   "mimetype": "text/x-python",
   "name": "python",
   "nbconvert_exporter": "python",
   "pygments_lexer": "ipython3",
   "version": "3.8.3"
  }
 },
 "nbformat": 4,
 "nbformat_minor": 4
}
